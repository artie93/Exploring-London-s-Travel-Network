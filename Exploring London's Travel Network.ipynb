{
 "cells": [
  {
   "cell_type": "markdown",
   "id": "b173aef7-9585-439c-bd84-ec6f359ee090",
   "metadata": {},
   "source": [
    "London, or as the Romans called it \"Londonium\"! As of 2021, Greater London is home to over 8.5 million residents who speak over 300 languages. While the City of London is a little over one square mile (hence its nickname \"The Square Mile\"), Greater London has grown to encompass 32 boroughs spanning a total area of 606 square miles! \n",
    "\n",
    "Given the city's roads were originally designed for horse and cart, this area and population growth have required the development of an efficient public transport system! Since the year 2000, this has been through the local government body called **Transport for London**, or *TfL*, which is managed by the London Mayor's office. Their remit covers the London Underground, Overground, Docklands Light Railway (DLR), buses, trams, river services (clipper and Emirates Airline cable car), roads, and even taxis.\n",
    "\n",
    "The Mayor of London's office makes their data available to the public [here](https://data.london.gov.uk/dataset). In this project, you will work with a slightly modified version of a dataset containing information about public transport journey volume by transport type. \n",
    "\n",
    "The data has been loaded into a **Databricks** database containing a schema called `tfl` with a single table called `journeys`. The table, which you will use for the project, includes the following data:\n",
    "\n",
    "## `tfl.journeys`\n",
    "\n",
    "| Column | Definition | Data type |\n",
    "|--------|------------|-----------|\n",
    "| `month`| Month in number format, e.g., `1` equals January | `integer` |\n",
    "| `year` | Year | `integer` |\n",
    "| `days` | Number of days in the given month | `integer` |\n",
    "| `report_date` | Date that the data was reported | `date` |\n",
    "| `journey_type` | Method of transport used | `varchar` |\n",
    "| `journeys_millions` | Millions of journeys, measured in decimals | `float` |\n",
    "\n",
    "You will execute SQL queries to answer three questions, as listed in the instructions."
   ]
  },
  {
   "cell_type": "markdown",
   "id": "0f70d0e8",
   "metadata": {},
   "source": [
    "## What are the most popular transport types, \n",
    "## measured by the total number of journeys? \n",
    "## The output should contain two columns, 1) journey_type and \n",
    "## 2) total_journeys_millions, and be sorted \n",
    "## by the second column in descending order. \n",
    "## Save the query as most_popular_transport_types."
   ]
  },
  {
   "cell_type": "code",
   "execution_count": 12,
   "id": "35ed65ed-7108-4fb5-a235-7d324a874199",
   "metadata": {
    "customType": "sql",
    "dataFrameVariableName": "most_popular_transport_types",
    "executionCancelledAt": null,
    "executionTime": 16342,
    "lastExecutedAt": 1720122035012,
    "lastExecutedByKernel": "f555dbc0-48da-4fc3-920f-33d4e4b6c9f4",
    "lastScheduledRunId": null,
    "lastSuccessfullyExecutedCode": "-- most_popular_transport_types\nSELECT journey_type, SUM(journeys_millions) AS total_journeys_millions\nFROM tfl.journeys\nGROUP BY journey_type\nORDER BY total_journeys_millions DESC;",
    "outputsMetadata": {
     "0": {
      "height": 221,
      "type": "dataFrame"
     }
    },
    "sqlCellMode": "dataFrame",
    "sqlSource": {
     "integrationId": "7569175e-98be-4c89-9873-c20f699a9cc7",
     "integrationType": "databricks",
     "type": "integration"
    }
   },
   "outputs": [
    {
     "@datacamp/metadata": {
      "executedQuery": "-- most_popular_transport_types\nSELECT journey_type, SUM(journeys_millions) AS total_journeys_millions\nFROM tfl.journeys\nGROUP BY journey_type\nORDER BY total_journeys_millions DESC;",
      "executedQueryParameters": []
     },
     "data": {
      "application/com.datacamp.data-table.v2+json": {
       "table": {
        "data": {
         "index": [
          0,
          1,
          2,
          3,
          4,
          5
         ],
         "journey_type": [
          "Bus",
          "Underground & DLR",
          "Overground",
          "TfL Rail",
          "Tram",
          "Emirates Airline"
         ],
         "total_journeys_millions": [
          24905.19394699,
          15020.466543504,
          1666.8456664279,
          411.3134209833,
          314.6898754821,
          14.5837175749
         ]
        },
        "schema": {
         "fields": [
          {
           "name": "index",
           "type": "integer"
          },
          {
           "name": "journey_type",
           "type": "string"
          },
          {
           "name": "total_journeys_millions",
           "type": "number"
          }
         ],
         "pandas_version": "1.4.0",
         "primaryKey": [
          "index"
         ]
        }
       },
       "total_rows": 6,
       "truncation_type": null
      },
      "text/html": [
       "<div>\n",
       "<style scoped>\n",
       "    .dataframe tbody tr th:only-of-type {\n",
       "        vertical-align: middle;\n",
       "    }\n",
       "\n",
       "    .dataframe tbody tr th {\n",
       "        vertical-align: top;\n",
       "    }\n",
       "\n",
       "    .dataframe thead th {\n",
       "        text-align: right;\n",
       "    }\n",
       "</style>\n",
       "<table border=\"1\" class=\"dataframe\">\n",
       "  <thead>\n",
       "    <tr style=\"text-align: right;\">\n",
       "      <th></th>\n",
       "      <th>journey_type</th>\n",
       "      <th>total_journeys_millions</th>\n",
       "    </tr>\n",
       "  </thead>\n",
       "  <tbody>\n",
       "    <tr>\n",
       "      <th>0</th>\n",
       "      <td>Bus</td>\n",
       "      <td>24905.193947</td>\n",
       "    </tr>\n",
       "    <tr>\n",
       "      <th>1</th>\n",
       "      <td>Underground &amp; DLR</td>\n",
       "      <td>15020.466544</td>\n",
       "    </tr>\n",
       "    <tr>\n",
       "      <th>2</th>\n",
       "      <td>Overground</td>\n",
       "      <td>1666.845666</td>\n",
       "    </tr>\n",
       "    <tr>\n",
       "      <th>3</th>\n",
       "      <td>TfL Rail</td>\n",
       "      <td>411.313421</td>\n",
       "    </tr>\n",
       "    <tr>\n",
       "      <th>4</th>\n",
       "      <td>Tram</td>\n",
       "      <td>314.689875</td>\n",
       "    </tr>\n",
       "    <tr>\n",
       "      <th>5</th>\n",
       "      <td>Emirates Airline</td>\n",
       "      <td>14.583718</td>\n",
       "    </tr>\n",
       "  </tbody>\n",
       "</table>\n",
       "</div>"
      ],
      "text/plain": [
       "        journey_type  total_journeys_millions\n",
       "0                Bus             24905.193947\n",
       "1  Underground & DLR             15020.466544\n",
       "2         Overground              1666.845666\n",
       "3           TfL Rail               411.313421\n",
       "4               Tram               314.689875\n",
       "5   Emirates Airline                14.583718"
      ]
     },
     "execution_count": 12,
     "metadata": {},
     "output_type": "execute_result"
    }
   ],
   "source": [
    "-- most_popular_transport_types\n",
    "SELECT journey_type, SUM(journeys_millions) AS total_journeys_millions\n",
    "FROM tfl.journeys\n",
    "GROUP BY journey_type\n",
    "ORDER BY total_journeys_millions DESC;"
   ]
  },
  {
   "cell_type": "markdown",
   "id": "dc77b2fd",
   "metadata": {},
   "source": [
    "## Which five months and years were the most popular for the Emirates Airline? \n",
    "## Return an output containing month, year, and journeys_millions, \n",
    "## with the latter rounded to two decimal places and aliased as rounded_journeys_millions. ## Exclude null values and save the result as emirates_airline_popularity. \n",
    "## Note - in Databricks SQL, aliased column names cannot be used in a \n",
    "## WHERE clause, you will need to use original column names."
   ]
  },
  {
   "cell_type": "code",
   "execution_count": 13,
   "id": "7c3b3508-15f0-43be-ba4c-0daa55f5a1ff",
   "metadata": {
    "customType": "sql",
    "dataFrameVariableName": "emirates_airline_popularity",
    "executionCancelledAt": null,
    "executionTime": 2592,
    "lastExecutedAt": 1720122037604,
    "lastExecutedByKernel": "f555dbc0-48da-4fc3-920f-33d4e4b6c9f4",
    "lastScheduledRunId": null,
    "lastSuccessfullyExecutedCode": "-- emirates_airline_popularity\nSELECT month, year, ROUND(journeys_millions,2) AS rounded_journeys_millions\nFROM tfl.journeys\nWHERE journeys_millions IS NOT NULL AND journey_type = 'Emirates Airline'\nGROUP BY month, year, rounded_journeys_millions\nORDER BY rounded_journeys_millions DESC\nLIMIT 5;",
    "sqlCellMode": "dataFrame",
    "sqlSource": {
     "integrationId": "7569175e-98be-4c89-9873-c20f699a9cc7",
     "integrationType": "databricks",
     "type": "integration"
    }
   },
   "outputs": [
    {
     "@datacamp/metadata": {
      "executedQuery": "-- emirates_airline_popularity\nSELECT month, year, ROUND(journeys_millions,2) AS rounded_journeys_millions\nFROM tfl.journeys\nWHERE journeys_millions IS NOT NULL AND journey_type = 'Emirates Airline'\nGROUP BY month, year, rounded_journeys_millions\nORDER BY rounded_journeys_millions DESC\nLIMIT 5;",
      "executedQueryParameters": []
     },
     "data": {
      "application/com.datacamp.data-table.v2+json": {
       "table": {
        "data": {
         "index": [
          0,
          1,
          2,
          3,
          4
         ],
         "month": [
          5,
          6,
          4,
          5,
          5
         ],
         "rounded_journeys_millions": [
          0.53,
          0.38,
          0.24,
          0.19,
          0.19
         ],
         "year": [
          2012,
          2012,
          2012,
          2022,
          2015
         ]
        },
        "schema": {
         "fields": [
          {
           "name": "index",
           "type": "integer"
          },
          {
           "name": "month",
           "type": "integer"
          },
          {
           "name": "year",
           "type": "integer"
          },
          {
           "name": "rounded_journeys_millions",
           "type": "number"
          }
         ],
         "pandas_version": "1.4.0",
         "primaryKey": [
          "index"
         ]
        }
       },
       "total_rows": 5,
       "truncation_type": null
      },
      "text/html": [
       "<div>\n",
       "<style scoped>\n",
       "    .dataframe tbody tr th:only-of-type {\n",
       "        vertical-align: middle;\n",
       "    }\n",
       "\n",
       "    .dataframe tbody tr th {\n",
       "        vertical-align: top;\n",
       "    }\n",
       "\n",
       "    .dataframe thead th {\n",
       "        text-align: right;\n",
       "    }\n",
       "</style>\n",
       "<table border=\"1\" class=\"dataframe\">\n",
       "  <thead>\n",
       "    <tr style=\"text-align: right;\">\n",
       "      <th></th>\n",
       "      <th>month</th>\n",
       "      <th>year</th>\n",
       "      <th>rounded_journeys_millions</th>\n",
       "    </tr>\n",
       "  </thead>\n",
       "  <tbody>\n",
       "    <tr>\n",
       "      <th>0</th>\n",
       "      <td>5</td>\n",
       "      <td>2012</td>\n",
       "      <td>0.53</td>\n",
       "    </tr>\n",
       "    <tr>\n",
       "      <th>1</th>\n",
       "      <td>6</td>\n",
       "      <td>2012</td>\n",
       "      <td>0.38</td>\n",
       "    </tr>\n",
       "    <tr>\n",
       "      <th>2</th>\n",
       "      <td>4</td>\n",
       "      <td>2012</td>\n",
       "      <td>0.24</td>\n",
       "    </tr>\n",
       "    <tr>\n",
       "      <th>3</th>\n",
       "      <td>5</td>\n",
       "      <td>2022</td>\n",
       "      <td>0.19</td>\n",
       "    </tr>\n",
       "    <tr>\n",
       "      <th>4</th>\n",
       "      <td>5</td>\n",
       "      <td>2015</td>\n",
       "      <td>0.19</td>\n",
       "    </tr>\n",
       "  </tbody>\n",
       "</table>\n",
       "</div>"
      ],
      "text/plain": [
       "   month  year  rounded_journeys_millions\n",
       "0      5  2012                       0.53\n",
       "1      6  2012                       0.38\n",
       "2      4  2012                       0.24\n",
       "3      5  2022                       0.19\n",
       "4      5  2015                       0.19"
      ]
     },
     "execution_count": 13,
     "metadata": {},
     "output_type": "execute_result"
    }
   ],
   "source": [
    "-- emirates_airline_popularity\n",
    "SELECT month, year, ROUND(journeys_millions,2) AS rounded_journeys_millions\n",
    "FROM tfl.journeys\n",
    "WHERE journeys_millions IS NOT NULL AND journey_type = 'Emirates Airline'\n",
    "GROUP BY month, year, rounded_journeys_millions\n",
    "ORDER BY rounded_journeys_millions DESC\n",
    "LIMIT 5;"
   ]
  },
  {
   "cell_type": "markdown",
   "id": "93e63c08",
   "metadata": {},
   "source": [
    "## Find the five years with the lowest volume of \n",
    "## Underground & DLR journeys, saving as \n",
    "## least_popular_years_tube. The results should \n",
    "## contain the columns year, journey_type, and total_journeys_millions."
   ]
  },
  {
   "cell_type": "code",
   "execution_count": 14,
   "id": "c9b84237-2bcb-4c93-8031-b90f671bc1a2",
   "metadata": {
    "customType": "sql",
    "dataFrameVariableName": "least_popular_years_tube",
    "executionCancelledAt": null,
    "executionTime": 2350,
    "lastExecutedAt": 1720122039954,
    "lastExecutedByKernel": "f555dbc0-48da-4fc3-920f-33d4e4b6c9f4",
    "lastScheduledRunId": null,
    "lastSuccessfullyExecutedCode": "-- least_popular_years_tube\nSELECT year, journey_type, SUM(journeys_millions) AS total_journeys_millions\nFROM tfl.journeys\nWHERE journey_type = 'Underground & DLR'\nGROUP BY year, journey_type\nORDER BY total_journeys_millions ASC\nLIMIT 5;",
    "outputsMetadata": {
     "0": {
      "height": 196,
      "type": "dataFrame"
     }
    },
    "sqlCellMode": "dataFrame",
    "sqlSource": {
     "integrationId": "7569175e-98be-4c89-9873-c20f699a9cc7",
     "integrationType": "databricks",
     "type": "integration"
    }
   },
   "outputs": [
    {
     "@datacamp/metadata": {
      "executedQuery": "-- least_popular_years_tube\nSELECT year, journey_type, SUM(journeys_millions) AS total_journeys_millions\nFROM tfl.journeys\nWHERE journey_type = 'Underground & DLR'\nGROUP BY year, journey_type\nORDER BY total_journeys_millions ASC\nLIMIT 5;",
      "executedQueryParameters": []
     },
     "data": {
      "application/com.datacamp.data-table.v2+json": {
       "table": {
        "data": {
         "index": [
          0,
          1,
          2,
          3,
          4
         ],
         "journey_type": [
          "Underground & DLR",
          "Underground & DLR",
          "Underground & DLR",
          "Underground & DLR",
          "Underground & DLR"
         ],
         "total_journeys_millions": [
          310.179316314,
          748.4525442,
          1064.8590086,
          1096.14558838,
          1156.64765448
         ],
         "year": [
          2020,
          2021,
          2022,
          2010,
          2011
         ]
        },
        "schema": {
         "fields": [
          {
           "name": "index",
           "type": "integer"
          },
          {
           "name": "year",
           "type": "integer"
          },
          {
           "name": "journey_type",
           "type": "string"
          },
          {
           "name": "total_journeys_millions",
           "type": "number"
          }
         ],
         "pandas_version": "1.4.0",
         "primaryKey": [
          "index"
         ]
        }
       },
       "total_rows": 5,
       "truncation_type": null
      },
      "text/html": [
       "<div>\n",
       "<style scoped>\n",
       "    .dataframe tbody tr th:only-of-type {\n",
       "        vertical-align: middle;\n",
       "    }\n",
       "\n",
       "    .dataframe tbody tr th {\n",
       "        vertical-align: top;\n",
       "    }\n",
       "\n",
       "    .dataframe thead th {\n",
       "        text-align: right;\n",
       "    }\n",
       "</style>\n",
       "<table border=\"1\" class=\"dataframe\">\n",
       "  <thead>\n",
       "    <tr style=\"text-align: right;\">\n",
       "      <th></th>\n",
       "      <th>year</th>\n",
       "      <th>journey_type</th>\n",
       "      <th>total_journeys_millions</th>\n",
       "    </tr>\n",
       "  </thead>\n",
       "  <tbody>\n",
       "    <tr>\n",
       "      <th>0</th>\n",
       "      <td>2020</td>\n",
       "      <td>Underground &amp; DLR</td>\n",
       "      <td>310.179316</td>\n",
       "    </tr>\n",
       "    <tr>\n",
       "      <th>1</th>\n",
       "      <td>2021</td>\n",
       "      <td>Underground &amp; DLR</td>\n",
       "      <td>748.452544</td>\n",
       "    </tr>\n",
       "    <tr>\n",
       "      <th>2</th>\n",
       "      <td>2022</td>\n",
       "      <td>Underground &amp; DLR</td>\n",
       "      <td>1064.859009</td>\n",
       "    </tr>\n",
       "    <tr>\n",
       "      <th>3</th>\n",
       "      <td>2010</td>\n",
       "      <td>Underground &amp; DLR</td>\n",
       "      <td>1096.145588</td>\n",
       "    </tr>\n",
       "    <tr>\n",
       "      <th>4</th>\n",
       "      <td>2011</td>\n",
       "      <td>Underground &amp; DLR</td>\n",
       "      <td>1156.647654</td>\n",
       "    </tr>\n",
       "  </tbody>\n",
       "</table>\n",
       "</div>"
      ],
      "text/plain": [
       "   year       journey_type  total_journeys_millions\n",
       "0  2020  Underground & DLR               310.179316\n",
       "1  2021  Underground & DLR               748.452544\n",
       "2  2022  Underground & DLR              1064.859009\n",
       "3  2010  Underground & DLR              1096.145588\n",
       "4  2011  Underground & DLR              1156.647654"
      ]
     },
     "execution_count": 14,
     "metadata": {},
     "output_type": "execute_result"
    }
   ],
   "source": [
    "-- least_popular_years_tube\n",
    "SELECT year, journey_type, SUM(journeys_millions) AS total_journeys_millions\n",
    "FROM tfl.journeys\n",
    "WHERE journey_type = 'Underground & DLR'\n",
    "GROUP BY year, journey_type\n",
    "ORDER BY total_journeys_millions ASC\n",
    "LIMIT 5;"
   ]
  }
 ],
 "metadata": {
  "colab": {
   "name": "Welcome to DataCamp Workspaces.ipynb",
   "provenance": []
  },
  "kernelspec": {
   "display_name": "Python 3 (ipykernel)",
   "language": "python",
   "name": "python3"
  },
  "language_info": {
   "codemirror_mode": {
    "name": "ipython",
    "version": 3
   },
   "file_extension": ".py",
   "mimetype": "text/x-python",
   "name": "python",
   "nbconvert_exporter": "python",
   "pygments_lexer": "ipython3",
   "version": "3.9.7"
  }
 },
 "nbformat": 4,
 "nbformat_minor": 5
}
